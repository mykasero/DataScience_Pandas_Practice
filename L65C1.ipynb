{
 "cells": [
  {
   "cell_type": "code",
   "execution_count": 1,
   "id": "9541a87e",
   "metadata": {},
   "outputs": [],
   "source": [
    "import pandas as pd"
   ]
  },
  {
   "cell_type": "code",
   "execution_count": 2,
   "id": "110ceb87",
   "metadata": {},
   "outputs": [
    {
     "data": {
      "text/html": [
       "<div>\n",
       "<style scoped>\n",
       "    .dataframe tbody tr th:only-of-type {\n",
       "        vertical-align: middle;\n",
       "    }\n",
       "\n",
       "    .dataframe tbody tr th {\n",
       "        vertical-align: top;\n",
       "    }\n",
       "\n",
       "    .dataframe thead th {\n",
       "        text-align: right;\n",
       "    }\n",
       "</style>\n",
       "<table border=\"1\" class=\"dataframe\">\n",
       "  <thead>\n",
       "    <tr style=\"text-align: right;\">\n",
       "      <th></th>\n",
       "      <th>Vehicle ID</th>\n",
       "      <th>Year</th>\n",
       "      <th>Make</th>\n",
       "      <th>Model</th>\n",
       "      <th>Class</th>\n",
       "      <th>Fuel Type</th>\n",
       "      <th>Combined MPG (FT1)</th>\n",
       "    </tr>\n",
       "  </thead>\n",
       "  <tbody>\n",
       "    <tr>\n",
       "      <th>0</th>\n",
       "      <td>26587</td>\n",
       "      <td>1984</td>\n",
       "      <td>Alfa Romeo</td>\n",
       "      <td>GT V6 2.5</td>\n",
       "      <td>Minicompact Cars</td>\n",
       "      <td>Regular</td>\n",
       "      <td>20.0</td>\n",
       "    </tr>\n",
       "    <tr>\n",
       "      <th>1</th>\n",
       "      <td>27705</td>\n",
       "      <td>1984</td>\n",
       "      <td>Alfa Romeo</td>\n",
       "      <td>GT V6 2.5</td>\n",
       "      <td>Minicompact Cars</td>\n",
       "      <td>Regular</td>\n",
       "      <td>20.0</td>\n",
       "    </tr>\n",
       "    <tr>\n",
       "      <th>2</th>\n",
       "      <td>26561</td>\n",
       "      <td>1984</td>\n",
       "      <td>Alfa Romeo</td>\n",
       "      <td>Spider Veloce 2000</td>\n",
       "      <td>Two Seaters</td>\n",
       "      <td>Regular</td>\n",
       "      <td>21.0</td>\n",
       "    </tr>\n",
       "    <tr>\n",
       "      <th>3</th>\n",
       "      <td>27681</td>\n",
       "      <td>1984</td>\n",
       "      <td>Alfa Romeo</td>\n",
       "      <td>Spider Veloce 2000</td>\n",
       "      <td>Two Seaters</td>\n",
       "      <td>Regular</td>\n",
       "      <td>21.0</td>\n",
       "    </tr>\n",
       "    <tr>\n",
       "      <th>4</th>\n",
       "      <td>27550</td>\n",
       "      <td>1984</td>\n",
       "      <td>AM General</td>\n",
       "      <td>DJ Po Vehicle 2WD</td>\n",
       "      <td>Special Purpose Vehicle 2WD</td>\n",
       "      <td>Regular</td>\n",
       "      <td>17.0</td>\n",
       "    </tr>\n",
       "  </tbody>\n",
       "</table>\n",
       "</div>"
      ],
      "text/plain": [
       "   Vehicle ID  Year        Make               Model  \\\n",
       "0       26587  1984  Alfa Romeo           GT V6 2.5   \n",
       "1       27705  1984  Alfa Romeo           GT V6 2.5   \n",
       "2       26561  1984  Alfa Romeo  Spider Veloce 2000   \n",
       "3       27681  1984  Alfa Romeo  Spider Veloce 2000   \n",
       "4       27550  1984  AM General   DJ Po Vehicle 2WD   \n",
       "\n",
       "                         Class Fuel Type  Combined MPG (FT1)  \n",
       "0             Minicompact Cars   Regular                20.0  \n",
       "1             Minicompact Cars   Regular                20.0  \n",
       "2                  Two Seaters   Regular                21.0  \n",
       "3                  Two Seaters   Regular                21.0  \n",
       "4  Special Purpose Vehicle 2WD   Regular                17.0  "
      ]
     },
     "execution_count": 2,
     "metadata": {},
     "output_type": "execute_result"
    }
   ],
   "source": [
    "fuel = pd.read_csv('./data/fuel.csv',low_memory=False,usecols=['Vehicle ID','Year','Make','Model','Class','Fuel Type','Combined MPG (FT1)'])\n",
    "fuel.head()"
   ]
  },
  {
   "cell_type": "code",
   "execution_count": 3,
   "id": "be607861",
   "metadata": {},
   "outputs": [
    {
     "name": "stdout",
     "output_type": "stream",
     "text": [
      "<class 'pandas.core.frame.DataFrame'>\n",
      "RangeIndex: 31684 entries, 0 to 31683\n",
      "Data columns (total 7 columns):\n",
      " #   Column              Non-Null Count  Dtype  \n",
      "---  ------              --------------  -----  \n",
      " 0   Vehicle ID          31684 non-null  int64  \n",
      " 1   Year                31684 non-null  int64  \n",
      " 2   Make                31684 non-null  object \n",
      " 3   Model               31683 non-null  object \n",
      " 4   Class               31683 non-null  object \n",
      " 5   Fuel Type           31683 non-null  object \n",
      " 6   Combined MPG (FT1)  31683 non-null  float64\n",
      "dtypes: float64(1), int64(2), object(4)\n",
      "memory usage: 1.7+ MB\n"
     ]
    }
   ],
   "source": [
    "fuel.info()"
   ]
  },
  {
   "cell_type": "code",
   "execution_count": 5,
   "id": "a2c426ec",
   "metadata": {},
   "outputs": [
    {
     "data": {
      "text/plain": [
       "Vehicle ID              int64\n",
       "Year                    int64\n",
       "Make                   object\n",
       "Model                  object\n",
       "Class                  object\n",
       "Fuel Type              object\n",
       "Combined MPG (FT1)    float64\n",
       "dtype: object"
      ]
     },
     "execution_count": 5,
     "metadata": {},
     "output_type": "execute_result"
    }
   ],
   "source": [
    "fuel.dtypes"
   ]
  },
  {
   "cell_type": "code",
   "execution_count": 6,
   "id": "042ee18c",
   "metadata": {},
   "outputs": [
    {
     "data": {
      "text/plain": [
       "object     4\n",
       "int64      2\n",
       "float64    1\n",
       "dtype: int64"
      ]
     },
     "execution_count": 6,
     "metadata": {},
     "output_type": "execute_result"
    }
   ],
   "source": [
    "fuel.dtypes.value_counts()"
   ]
  },
  {
   "cell_type": "code",
   "execution_count": 8,
   "id": "4d06143d",
   "metadata": {},
   "outputs": [
    {
     "data": {
      "text/plain": [
       "Make\n",
       "Chevrolet        3389\n",
       "Ford             2721\n",
       "Dodge            2361\n",
       "GMC              2174\n",
       "Toyota           1599\n",
       "BMW              1180\n",
       "Nissan           1082\n",
       "Mercedes-Benz     948\n",
       "Mitsubishi        937\n",
       "Pontiac           893\n",
       "dtype: int64"
      ]
     },
     "execution_count": 8,
     "metadata": {},
     "output_type": "execute_result"
    }
   ],
   "source": [
    "fuel.value_counts('Make').head(10)"
   ]
  },
  {
   "cell_type": "code",
   "execution_count": 9,
   "id": "a8e5abb5",
   "metadata": {},
   "outputs": [
    {
     "ename": "TypeError",
     "evalue": "'RangeIndex' object is not callable",
     "output_type": "error",
     "traceback": [
      "\u001b[1;31m---------------------------------------------------------------------------\u001b[0m",
      "\u001b[1;31mTypeError\u001b[0m                                 Traceback (most recent call last)",
      "Cell \u001b[1;32mIn[9], line 1\u001b[0m\n\u001b[1;32m----> 1\u001b[0m \u001b[43mfuel\u001b[49m\u001b[38;5;241;43m.\u001b[39;49m\u001b[43mindex\u001b[49m\u001b[43m(\u001b[49m\u001b[43m)\u001b[49m\n",
      "\u001b[1;31mTypeError\u001b[0m: 'RangeIndex' object is not callable"
     ]
    }
   ],
   "source": []
  },
  {
   "cell_type": "code",
   "execution_count": null,
   "id": "8e3a4637",
   "metadata": {},
   "outputs": [],
   "source": []
  }
 ],
 "metadata": {
  "kernelspec": {
   "display_name": "Python 3 (ipykernel)",
   "language": "python",
   "name": "python3"
  },
  "language_info": {
   "codemirror_mode": {
    "name": "ipython",
    "version": 3
   },
   "file_extension": ".py",
   "mimetype": "text/x-python",
   "name": "python",
   "nbconvert_exporter": "python",
   "pygments_lexer": "ipython3",
   "version": "3.9.16"
  }
 },
 "nbformat": 4,
 "nbformat_minor": 5
}
