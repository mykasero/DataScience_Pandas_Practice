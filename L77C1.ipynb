{
 "cells": [
  {
   "cell_type": "code",
   "execution_count": 1,
   "id": "3ca0a338",
   "metadata": {},
   "outputs": [],
   "source": [
    "import pandas as pd\n",
    "import numpy as np"
   ]
  },
  {
   "cell_type": "code",
   "execution_count": 2,
   "id": "a26e9d65",
   "metadata": {},
   "outputs": [
    {
     "data": {
      "text/html": [
       "<div>\n",
       "<style scoped>\n",
       "    .dataframe tbody tr th:only-of-type {\n",
       "        vertical-align: middle;\n",
       "    }\n",
       "\n",
       "    .dataframe tbody tr th {\n",
       "        vertical-align: top;\n",
       "    }\n",
       "\n",
       "    .dataframe thead th {\n",
       "        text-align: right;\n",
       "    }\n",
       "</style>\n",
       "<table border=\"1\" class=\"dataframe\">\n",
       "  <thead>\n",
       "    <tr style=\"text-align: right;\">\n",
       "      <th></th>\n",
       "      <th>Vehicle ID</th>\n",
       "      <th>Year</th>\n",
       "      <th>Make</th>\n",
       "      <th>Model</th>\n",
       "      <th>Class</th>\n",
       "      <th>Fuel Type</th>\n",
       "      <th>Combined MPG (FT1)</th>\n",
       "    </tr>\n",
       "  </thead>\n",
       "  <tbody>\n",
       "    <tr>\n",
       "      <th>0</th>\n",
       "      <td>26587</td>\n",
       "      <td>1984</td>\n",
       "      <td>Alfa Romeo</td>\n",
       "      <td>GT V6 2.5</td>\n",
       "      <td>Minicompact Cars</td>\n",
       "      <td>Regular</td>\n",
       "      <td>20.0</td>\n",
       "    </tr>\n",
       "    <tr>\n",
       "      <th>1</th>\n",
       "      <td>27705</td>\n",
       "      <td>1984</td>\n",
       "      <td>Alfa Romeo</td>\n",
       "      <td>GT V6 2.5</td>\n",
       "      <td>Minicompact Cars</td>\n",
       "      <td>Regular</td>\n",
       "      <td>20.0</td>\n",
       "    </tr>\n",
       "    <tr>\n",
       "      <th>2</th>\n",
       "      <td>26561</td>\n",
       "      <td>1984</td>\n",
       "      <td>Alfa Romeo</td>\n",
       "      <td>Spider Veloce 2000</td>\n",
       "      <td>Two Seaters</td>\n",
       "      <td>Regular</td>\n",
       "      <td>21.0</td>\n",
       "    </tr>\n",
       "    <tr>\n",
       "      <th>3</th>\n",
       "      <td>27681</td>\n",
       "      <td>1984</td>\n",
       "      <td>Alfa Romeo</td>\n",
       "      <td>Spider Veloce 2000</td>\n",
       "      <td>Two Seaters</td>\n",
       "      <td>Regular</td>\n",
       "      <td>21.0</td>\n",
       "    </tr>\n",
       "    <tr>\n",
       "      <th>4</th>\n",
       "      <td>27550</td>\n",
       "      <td>1984</td>\n",
       "      <td>AM General</td>\n",
       "      <td>DJ Po Vehicle 2WD</td>\n",
       "      <td>Special Purpose Vehicle 2WD</td>\n",
       "      <td>Regular</td>\n",
       "      <td>17.0</td>\n",
       "    </tr>\n",
       "  </tbody>\n",
       "</table>\n",
       "</div>"
      ],
      "text/plain": [
       "   Vehicle ID  Year        Make               Model  \\\n",
       "0       26587  1984  Alfa Romeo           GT V6 2.5   \n",
       "1       27705  1984  Alfa Romeo           GT V6 2.5   \n",
       "2       26561  1984  Alfa Romeo  Spider Veloce 2000   \n",
       "3       27681  1984  Alfa Romeo  Spider Veloce 2000   \n",
       "4       27550  1984  AM General   DJ Po Vehicle 2WD   \n",
       "\n",
       "                         Class Fuel Type  Combined MPG (FT1)  \n",
       "0             Minicompact Cars   Regular                20.0  \n",
       "1             Minicompact Cars   Regular                20.0  \n",
       "2                  Two Seaters   Regular                21.0  \n",
       "3                  Two Seaters   Regular                21.0  \n",
       "4  Special Purpose Vehicle 2WD   Regular                17.0  "
      ]
     },
     "execution_count": 2,
     "metadata": {},
     "output_type": "execute_result"
    }
   ],
   "source": [
    "fuel = pd.read_csv('./data/fuel.csv',low_memory=False,usecols=['Vehicle ID','Year','Make','Model','Class','Fuel Type','Combined MPG (FT1)'])\n",
    "fuel.head()"
   ]
  },
  {
   "cell_type": "code",
   "execution_count": 3,
   "id": "3f3aa51c",
   "metadata": {},
   "outputs": [
    {
     "name": "stdout",
     "output_type": "stream",
     "text": [
      "<class 'pandas.core.frame.DataFrame'>\n",
      "RangeIndex: 31684 entries, 0 to 31683\n",
      "Data columns (total 7 columns):\n",
      " #   Column              Non-Null Count  Dtype  \n",
      "---  ------              --------------  -----  \n",
      " 0   Vehicle ID          31684 non-null  int64  \n",
      " 1   Year                31684 non-null  int64  \n",
      " 2   Make                31684 non-null  object \n",
      " 3   Model               31683 non-null  object \n",
      " 4   Class               31683 non-null  object \n",
      " 5   Fuel Type           31683 non-null  object \n",
      " 6   Combined MPG (FT1)  31683 non-null  float64\n",
      "dtypes: float64(1), int64(2), object(4)\n",
      "memory usage: 1.7+ MB\n"
     ]
    }
   ],
   "source": [
    "fuel.info()"
   ]
  },
  {
   "cell_type": "code",
   "execution_count": 4,
   "id": "0614578a",
   "metadata": {},
   "outputs": [],
   "source": [
    "fuel['Year'] = fuel['Year'].astype('int')"
   ]
  },
  {
   "cell_type": "code",
   "execution_count": 5,
   "id": "b2d7998e",
   "metadata": {},
   "outputs": [
    {
     "name": "stdout",
     "output_type": "stream",
     "text": [
      "<class 'pandas.core.frame.DataFrame'>\n",
      "RangeIndex: 31684 entries, 0 to 31683\n",
      "Data columns (total 7 columns):\n",
      " #   Column              Non-Null Count  Dtype  \n",
      "---  ------              --------------  -----  \n",
      " 0   Vehicle ID          31684 non-null  int64  \n",
      " 1   Year                31684 non-null  int32  \n",
      " 2   Make                31684 non-null  object \n",
      " 3   Model               31683 non-null  object \n",
      " 4   Class               31683 non-null  object \n",
      " 5   Fuel Type           31683 non-null  object \n",
      " 6   Combined MPG (FT1)  31683 non-null  float64\n",
      "dtypes: float64(1), int32(1), int64(1), object(4)\n",
      "memory usage: 1.6+ MB\n"
     ]
    }
   ],
   "source": [
    "fuel.info()"
   ]
  },
  {
   "cell_type": "code",
   "execution_count": 8,
   "id": "f1ac5ff7",
   "metadata": {},
   "outputs": [
    {
     "data": {
      "text/plain": [
       "Chevrolet                 3389\n",
       "Ford                      2721\n",
       "Dodge                     2361\n",
       "GMC                       2174\n",
       "Toyota                    1599\n",
       "                          ... \n",
       "General Motors               1\n",
       "Panoz Auto-Development       1\n",
       "Goldacre                     1\n",
       "Panos                        1\n",
       "Mitsubish                    1\n",
       "Name: Make, Length: 128, dtype: int64"
      ]
     },
     "execution_count": 8,
     "metadata": {},
     "output_type": "execute_result"
    }
   ],
   "source": [
    "fuel['Make'].value_counts()"
   ]
  },
  {
   "cell_type": "code",
   "execution_count": 9,
   "id": "d024c252",
   "metadata": {},
   "outputs": [],
   "source": [
    "fuel['Make'] = fuel['Make'].astype('category')"
   ]
  },
  {
   "cell_type": "code",
   "execution_count": 10,
   "id": "b0b17411",
   "metadata": {},
   "outputs": [
    {
     "data": {
      "text/plain": [
       "Chevrolet                           3389\n",
       "Ford                                2721\n",
       "Dodge                               2361\n",
       "GMC                                 2174\n",
       "Toyota                              1599\n",
       "                                    ... \n",
       "Panoz Auto-Development                 1\n",
       "CODA Automotive                        1\n",
       "Environmental Rsch and Devp Corp       1\n",
       "E. P. Dutton, Inc.                     1\n",
       "ASC Incorporated                       1\n",
       "Name: Make, Length: 128, dtype: int64"
      ]
     },
     "execution_count": 10,
     "metadata": {},
     "output_type": "execute_result"
    }
   ],
   "source": [
    "fuel['Make'].value_counts()"
   ]
  },
  {
   "cell_type": "code",
   "execution_count": 11,
   "id": "75166d75",
   "metadata": {},
   "outputs": [
    {
     "name": "stdout",
     "output_type": "stream",
     "text": [
      "<class 'pandas.core.frame.DataFrame'>\n",
      "RangeIndex: 31684 entries, 0 to 31683\n",
      "Data columns (total 7 columns):\n",
      " #   Column              Non-Null Count  Dtype   \n",
      "---  ------              --------------  -----   \n",
      " 0   Vehicle ID          31684 non-null  int64   \n",
      " 1   Year                31684 non-null  int32   \n",
      " 2   Make                31684 non-null  category\n",
      " 3   Model               31683 non-null  object  \n",
      " 4   Class               31683 non-null  object  \n",
      " 5   Fuel Type           31683 non-null  object  \n",
      " 6   Combined MPG (FT1)  31683 non-null  float64 \n",
      "dtypes: category(1), float64(1), int32(1), int64(1), object(3)\n",
      "memory usage: 1.4+ MB\n"
     ]
    }
   ],
   "source": [
    "fuel.info()"
   ]
  },
  {
   "cell_type": "code",
   "execution_count": 12,
   "id": "81132384",
   "metadata": {},
   "outputs": [
    {
     "name": "stdout",
     "output_type": "stream",
     "text": [
      "<class 'pandas.core.series.Series'>\n",
      "RangeIndex: 31684 entries, 0 to 31683\n",
      "Series name: Model\n",
      "Non-Null Count  Dtype \n",
      "--------------  ----- \n",
      "31683 non-null  object\n",
      "dtypes: object(1)\n",
      "memory usage: 247.7+ KB\n"
     ]
    }
   ],
   "source": [
    "fuel['Model'].info()"
   ]
  },
  {
   "cell_type": "code",
   "execution_count": 13,
   "id": "f0cf07b0",
   "metadata": {},
   "outputs": [
    {
     "data": {
      "text/plain": [
       "F150 Pickup 2WD                 194\n",
       "Truck 2WD                       187\n",
       "F150 Pickup 4WD                 172\n",
       "Ranger Pickup 2WD               169\n",
       "Mustang                         156\n",
       "                               ... \n",
       "Silver Spur II Mpw Touring L      1\n",
       "Brooklands/Brklnds L              1\n",
       "Vdp                               1\n",
       "Pas-Typhoon                       1\n",
       "Lancer AWD                        1\n",
       "Name: Model, Length: 2957, dtype: int64"
      ]
     },
     "execution_count": 13,
     "metadata": {},
     "output_type": "execute_result"
    }
   ],
   "source": [
    "fuel['Model'].value_counts()"
   ]
  },
  {
   "cell_type": "code",
   "execution_count": 15,
   "id": "250f13f9",
   "metadata": {},
   "outputs": [],
   "source": [
    "fuel['Model'] = fuel['Model'].astype('category')"
   ]
  },
  {
   "cell_type": "code",
   "execution_count": 16,
   "id": "3029aa9f",
   "metadata": {},
   "outputs": [
    {
     "name": "stdout",
     "output_type": "stream",
     "text": [
      "<class 'pandas.core.series.Series'>\n",
      "RangeIndex: 31684 entries, 0 to 31683\n",
      "Series name: Model\n",
      "Non-Null Count  Dtype   \n",
      "--------------  -----   \n",
      "31683 non-null  category\n",
      "dtypes: category(1)\n",
      "memory usage: 149.6 KB\n"
     ]
    }
   ],
   "source": [
    "fuel['Model'].info()"
   ]
  },
  {
   "cell_type": "code",
   "execution_count": 17,
   "id": "39bde4d1",
   "metadata": {},
   "outputs": [
    {
     "name": "stdout",
     "output_type": "stream",
     "text": [
      "<class 'pandas.core.series.Series'>\n",
      "RangeIndex: 31684 entries, 0 to 31683\n",
      "Series name: Class\n",
      "Non-Null Count  Dtype \n",
      "--------------  ----- \n",
      "31683 non-null  object\n",
      "dtypes: object(1)\n",
      "memory usage: 247.7+ KB\n"
     ]
    }
   ],
   "source": [
    "fuel['Class'].info()"
   ]
  },
  {
   "cell_type": "code",
   "execution_count": 18,
   "id": "31cd5425",
   "metadata": {},
   "outputs": [
    {
     "data": {
      "text/plain": [
       "Compact Cars                    4489\n",
       "Subcompact Cars                 4299\n",
       "Midsize Cars                    3393\n",
       "Standard Pickup Trucks          2354\n",
       "Sport Utility Vehicle - 4WD     2034\n",
       "Sport Utility Vehicle - 2WD     1598\n",
       "Special Purpose Vehicles        1455\n",
       "Two Seaters                     1448\n",
       "Large Cars                      1351\n",
       "Small Station Wagons            1275\n",
       "Vans                            1141\n",
       "Standard Pickup Trucks 2WD      1043\n",
       "Minicompact Cars                 941\n",
       "Standard Pickup Trucks 4WD       846\n",
       "Midsize-Large Station Wagons     656\n",
       "Small Pickup Trucks              538\n",
       "Special Purpose Vehicle 2WD      536\n",
       "Midsize Station Wagons           492\n",
       "Vans, Cargo Type                 397\n",
       "Small Pickup Trucks 2WD          365\n",
       "Special Purpose Vehicle 4WD      287\n",
       "Minivan - 2WD                    278\n",
       "Vans, Passenger Type             253\n",
       "Small Pickup Trucks 4WD          162\n",
       "Minivan - 4WD                     41\n",
       "Standard Pickup Trucks/2wd         4\n",
       "Vans Passenger                     2\n",
       "Special Purpose Vehicles/4wd       2\n",
       "Special Purpose Vehicles/2wd       2\n",
       "Special Purpose Vehicle            1\n",
       "Name: Class, dtype: int64"
      ]
     },
     "execution_count": 18,
     "metadata": {},
     "output_type": "execute_result"
    }
   ],
   "source": [
    "fuel['Class'].value_counts()"
   ]
  },
  {
   "cell_type": "code",
   "execution_count": 19,
   "id": "32136ec1",
   "metadata": {},
   "outputs": [],
   "source": [
    "fuel['Class'] = fuel['Class'].astype('category')"
   ]
  },
  {
   "cell_type": "code",
   "execution_count": 20,
   "id": "84668e41",
   "metadata": {},
   "outputs": [
    {
     "name": "stdout",
     "output_type": "stream",
     "text": [
      "<class 'pandas.core.series.Series'>\n",
      "RangeIndex: 31684 entries, 0 to 31683\n",
      "Series name: Class\n",
      "Non-Null Count  Dtype   \n",
      "--------------  -----   \n",
      "31683 non-null  category\n",
      "dtypes: category(1)\n",
      "memory usage: 32.3 KB\n"
     ]
    }
   ],
   "source": [
    "fuel['Class'].info()"
   ]
  },
  {
   "cell_type": "code",
   "execution_count": 21,
   "id": "5bcca16c",
   "metadata": {},
   "outputs": [
    {
     "name": "stdout",
     "output_type": "stream",
     "text": [
      "<class 'pandas.core.series.Series'>\n",
      "RangeIndex: 31684 entries, 0 to 31683\n",
      "Series name: Fuel Type\n",
      "Non-Null Count  Dtype \n",
      "--------------  ----- \n",
      "31683 non-null  object\n",
      "dtypes: object(1)\n",
      "memory usage: 247.7+ KB\n"
     ]
    }
   ],
   "source": [
    "fuel['Fuel Type'].info()"
   ]
  },
  {
   "cell_type": "code",
   "execution_count": 22,
   "id": "3eff7641",
   "metadata": {},
   "outputs": [
    {
     "data": {
      "text/plain": [
       "Regular                       22439\n",
       "Premium                        7375\n",
       "Diesel                          936\n",
       "Gasoline or E85                 767\n",
       "CNG                              55\n",
       "Electricity                      33\n",
       "Premium or E85                   33\n",
       "Gasoline or natural gas          18\n",
       "Midgrade                         16\n",
       "Gasoline or propane               8\n",
       "Premium Gas or Electricity        3\n",
       "Name: Fuel Type, dtype: int64"
      ]
     },
     "execution_count": 22,
     "metadata": {},
     "output_type": "execute_result"
    }
   ],
   "source": [
    "fuel['Fuel Type'].value_counts()"
   ]
  },
  {
   "cell_type": "code",
   "execution_count": 23,
   "id": "2d8bb766",
   "metadata": {},
   "outputs": [],
   "source": [
    "fuel['Fuel Type'] = fuel['Fuel Type'].astype('category')"
   ]
  },
  {
   "cell_type": "code",
   "execution_count": 24,
   "id": "729d90a9",
   "metadata": {},
   "outputs": [
    {
     "name": "stdout",
     "output_type": "stream",
     "text": [
      "<class 'pandas.core.series.Series'>\n",
      "RangeIndex: 31684 entries, 0 to 31683\n",
      "Series name: Fuel Type\n",
      "Non-Null Count  Dtype   \n",
      "--------------  -----   \n",
      "31683 non-null  category\n",
      "dtypes: category(1)\n",
      "memory usage: 31.4 KB\n"
     ]
    }
   ],
   "source": [
    "fuel['Fuel Type'].info()"
   ]
  },
  {
   "cell_type": "code",
   "execution_count": null,
   "id": "54249cc3",
   "metadata": {},
   "outputs": [],
   "source": []
  }
 ],
 "metadata": {
  "kernelspec": {
   "display_name": "Python 3 (ipykernel)",
   "language": "python",
   "name": "python3"
  },
  "language_info": {
   "codemirror_mode": {
    "name": "ipython",
    "version": 3
   },
   "file_extension": ".py",
   "mimetype": "text/x-python",
   "name": "python",
   "nbconvert_exporter": "python",
   "pygments_lexer": "ipython3",
   "version": "3.9.16"
  }
 },
 "nbformat": 4,
 "nbformat_minor": 5
}
