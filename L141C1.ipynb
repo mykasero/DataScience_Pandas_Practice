{
 "cells": [
  {
   "cell_type": "code",
   "execution_count": 7,
   "id": "487a0a17",
   "metadata": {},
   "outputs": [],
   "source": [
    "import pandas as pd\n",
    "import numpy as np\n",
    "\n",
    "suppliers = pd.read_csv('./data/northwind-mongo-master/suppliers.csv',\n",
    "                      usecols=['SupplierID','CompanyName','City'])\n",
    "products = pd.read_csv('./data/northwind-mongo-master/products_del_2.csv',\n",
    "                      usecols=['ProductID','ProductName','SupplierID'])"
   ]
  },
  {
   "cell_type": "code",
   "execution_count": 9,
   "id": "2e49e2cc",
   "metadata": {},
   "outputs": [],
   "source": [
    "sup_prod = suppliers.merge(products,on=['SupplierID'],indicator=True)"
   ]
  },
  {
   "cell_type": "code",
   "execution_count": 12,
   "id": "c9720321",
   "metadata": {},
   "outputs": [
    {
     "name": "stdout",
     "output_type": "stream",
     "text": [
      "Suppliers :  29 \n",
      "Products : 68 \n",
      "sup_prod :  68\n"
     ]
    }
   ],
   "source": [
    "print(\"Suppliers : \",len(suppliers),\n",
    "     \"\\nProducts :\", len(products),\n",
    "     \"\\nsup_prod : \",len(sup_prod))"
   ]
  },
  {
   "cell_type": "code",
   "execution_count": 14,
   "id": "752c655c",
   "metadata": {},
   "outputs": [],
   "source": [
    "sup_prod_left = suppliers.merge(products,on=['SupplierID'],how='left',indicator=True)"
   ]
  },
  {
   "cell_type": "code",
   "execution_count": 15,
   "id": "98d23bf6",
   "metadata": {},
   "outputs": [
    {
     "name": "stdout",
     "output_type": "stream",
     "text": [
      "Suppliers :  29 \n",
      "Products : 68 \n",
      "sup_prod :  70\n"
     ]
    }
   ],
   "source": [
    "print(\"Suppliers : \",len(suppliers),\n",
    "     \"\\nProducts :\", len(products),\n",
    "     \"\\nsup_prod : \",len(sup_prod_left))"
   ]
  },
  {
   "cell_type": "code",
   "execution_count": 18,
   "id": "50354c18",
   "metadata": {},
   "outputs": [
    {
     "data": {
      "text/html": [
       "<div>\n",
       "<style scoped>\n",
       "    .dataframe tbody tr th:only-of-type {\n",
       "        vertical-align: middle;\n",
       "    }\n",
       "\n",
       "    .dataframe tbody tr th {\n",
       "        vertical-align: top;\n",
       "    }\n",
       "\n",
       "    .dataframe thead th {\n",
       "        text-align: right;\n",
       "    }\n",
       "</style>\n",
       "<table border=\"1\" class=\"dataframe\">\n",
       "  <thead>\n",
       "    <tr style=\"text-align: right;\">\n",
       "      <th></th>\n",
       "      <th>SupplierID</th>\n",
       "      <th>CompanyName</th>\n",
       "      <th>City</th>\n",
       "      <th>ProductID</th>\n",
       "      <th>ProductName</th>\n",
       "      <th>_merge</th>\n",
       "    </tr>\n",
       "  </thead>\n",
       "  <tbody>\n",
       "    <tr>\n",
       "      <th>2</th>\n",
       "      <td>2</td>\n",
       "      <td>New Orleans Cajun Delights</td>\n",
       "      <td>New Orleans</td>\n",
       "      <td>NaN</td>\n",
       "      <td>NaN</td>\n",
       "      <td>left_only</td>\n",
       "    </tr>\n",
       "    <tr>\n",
       "      <th>67</th>\n",
       "      <td>27</td>\n",
       "      <td>Escargots Nouveaux</td>\n",
       "      <td>Montceau</td>\n",
       "      <td>NaN</td>\n",
       "      <td>NaN</td>\n",
       "      <td>left_only</td>\n",
       "    </tr>\n",
       "  </tbody>\n",
       "</table>\n",
       "</div>"
      ],
      "text/plain": [
       "    SupplierID                 CompanyName         City  ProductID  \\\n",
       "2            2  New Orleans Cajun Delights  New Orleans        NaN   \n",
       "67          27          Escargots Nouveaux     Montceau        NaN   \n",
       "\n",
       "   ProductName     _merge  \n",
       "2          NaN  left_only  \n",
       "67         NaN  left_only  "
      ]
     },
     "execution_count": 18,
     "metadata": {},
     "output_type": "execute_result"
    }
   ],
   "source": [
    "sup_prod_left[sup_prod_left[\"_merge\"] == \"left_only\"]"
   ]
  },
  {
   "cell_type": "code",
   "execution_count": 19,
   "id": "4d18887d",
   "metadata": {},
   "outputs": [],
   "source": [
    "sup_prod_right = products.merge(suppliers,on=['SupplierID'],how='right',indicator=True)"
   ]
  },
  {
   "cell_type": "code",
   "execution_count": 20,
   "id": "a457b2ea",
   "metadata": {},
   "outputs": [
    {
     "name": "stdout",
     "output_type": "stream",
     "text": [
      "Suppliers :  29 \n",
      "Products : 68 \n",
      "sup_prod :  70\n"
     ]
    }
   ],
   "source": [
    "print(\"Suppliers : \",len(suppliers),\n",
    "     \"\\nProducts :\", len(products),\n",
    "     \"\\nsup_prod : \",len(sup_prod_right))"
   ]
  },
  {
   "cell_type": "code",
   "execution_count": null,
   "id": "91f4d6b8",
   "metadata": {},
   "outputs": [],
   "source": [
    "sup_prod_right[sup_prod_left[\"_merge\"] == \"left_only\"]"
   ]
  }
 ],
 "metadata": {
  "kernelspec": {
   "display_name": "Python 3 (ipykernel)",
   "language": "python",
   "name": "python3"
  },
  "language_info": {
   "codemirror_mode": {
    "name": "ipython",
    "version": 3
   },
   "file_extension": ".py",
   "mimetype": "text/x-python",
   "name": "python",
   "nbconvert_exporter": "python",
   "pygments_lexer": "ipython3",
   "version": "3.9.16"
  }
 },
 "nbformat": 4,
 "nbformat_minor": 5
}
