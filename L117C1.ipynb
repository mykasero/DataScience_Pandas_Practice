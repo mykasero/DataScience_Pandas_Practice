{
 "cells": [
  {
   "cell_type": "code",
   "execution_count": 2,
   "id": "640438c1",
   "metadata": {},
   "outputs": [],
   "source": [
    "import pandas as pd\n",
    "import numpy as np\n",
    "from datetime import datetime\n",
    "from datetime import timedelta\n",
    "import time"
   ]
  },
  {
   "cell_type": "code",
   "execution_count": 3,
   "id": "f6bd0a58",
   "metadata": {},
   "outputs": [
    {
     "data": {
      "text/html": [
       "<div>\n",
       "<style scoped>\n",
       "    .dataframe tbody tr th:only-of-type {\n",
       "        vertical-align: middle;\n",
       "    }\n",
       "\n",
       "    .dataframe tbody tr th {\n",
       "        vertical-align: top;\n",
       "    }\n",
       "\n",
       "    .dataframe thead th {\n",
       "        text-align: right;\n",
       "    }\n",
       "</style>\n",
       "<table border=\"1\" class=\"dataframe\">\n",
       "  <thead>\n",
       "    <tr style=\"text-align: right;\">\n",
       "      <th></th>\n",
       "      <th>Age</th>\n",
       "      <th>M/F</th>\n",
       "      <th>City</th>\n",
       "      <th>State</th>\n",
       "      <th>Country</th>\n",
       "      <th>Half</th>\n",
       "      <th>40K</th>\n",
       "      <th>Pace</th>\n",
       "      <th>TotalSeconds</th>\n",
       "      <th>HalfSeconds</th>\n",
       "    </tr>\n",
       "    <tr>\n",
       "      <th>Bib</th>\n",
       "      <th></th>\n",
       "      <th></th>\n",
       "      <th></th>\n",
       "      <th></th>\n",
       "      <th></th>\n",
       "      <th></th>\n",
       "      <th></th>\n",
       "      <th></th>\n",
       "      <th></th>\n",
       "      <th></th>\n",
       "    </tr>\n",
       "  </thead>\n",
       "  <tbody>\n",
       "    <tr>\n",
       "      <th>5</th>\n",
       "      <td>21</td>\n",
       "      <td>M</td>\n",
       "      <td>Addis Ababa</td>\n",
       "      <td>NaN</td>\n",
       "      <td>ETH</td>\n",
       "      <td>0 days 01:06:45</td>\n",
       "      <td>0 days 02:05:59</td>\n",
       "      <td>0:05:04</td>\n",
       "      <td>7559.0</td>\n",
       "      <td>4005.0</td>\n",
       "    </tr>\n",
       "    <tr>\n",
       "      <th>1</th>\n",
       "      <td>26</td>\n",
       "      <td>M</td>\n",
       "      <td>Ambo</td>\n",
       "      <td>NaN</td>\n",
       "      <td>ETH</td>\n",
       "      <td>0 days 01:06:46</td>\n",
       "      <td>0 days 02:05:59</td>\n",
       "      <td>0:05:06</td>\n",
       "      <td>7559.0</td>\n",
       "      <td>4006.0</td>\n",
       "    </tr>\n",
       "    <tr>\n",
       "      <th>6</th>\n",
       "      <td>31</td>\n",
       "      <td>M</td>\n",
       "      <td>Addis Ababa</td>\n",
       "      <td>NaN</td>\n",
       "      <td>ETH</td>\n",
       "      <td>0 days 01:06:44</td>\n",
       "      <td>0 days 02:06:47</td>\n",
       "      <td>0:05:07</td>\n",
       "      <td>7607.0</td>\n",
       "      <td>4004.0</td>\n",
       "    </tr>\n",
       "    <tr>\n",
       "      <th>11</th>\n",
       "      <td>33</td>\n",
       "      <td>M</td>\n",
       "      <td>Kitale</td>\n",
       "      <td>NaN</td>\n",
       "      <td>KEN</td>\n",
       "      <td>0 days 01:06:46</td>\n",
       "      <td>0 days 02:06:47</td>\n",
       "      <td>0:05:07</td>\n",
       "      <td>7607.0</td>\n",
       "      <td>4006.0</td>\n",
       "    </tr>\n",
       "    <tr>\n",
       "      <th>14</th>\n",
       "      <td>23</td>\n",
       "      <td>M</td>\n",
       "      <td>Eldoret</td>\n",
       "      <td>NaN</td>\n",
       "      <td>KEN</td>\n",
       "      <td>0 days 01:06:46</td>\n",
       "      <td>0 days 02:08:11</td>\n",
       "      <td>0:05:11</td>\n",
       "      <td>7691.0</td>\n",
       "      <td>4006.0</td>\n",
       "    </tr>\n",
       "  </tbody>\n",
       "</table>\n",
       "</div>"
      ],
      "text/plain": [
       "     Age M/F         City State Country            Half             40K  \\\n",
       "Bib                                                                       \n",
       "5     21   M  Addis Ababa   NaN     ETH 0 days 01:06:45 0 days 02:05:59   \n",
       "1     26   M         Ambo   NaN     ETH 0 days 01:06:46 0 days 02:05:59   \n",
       "6     31   M  Addis Ababa   NaN     ETH 0 days 01:06:44 0 days 02:06:47   \n",
       "11    33   M       Kitale   NaN     KEN 0 days 01:06:46 0 days 02:06:47   \n",
       "14    23   M      Eldoret   NaN     KEN 0 days 01:06:46 0 days 02:08:11   \n",
       "\n",
       "        Pace  TotalSeconds  HalfSeconds  \n",
       "Bib                                      \n",
       "5    0:05:04        7559.0       4005.0  \n",
       "1    0:05:06        7559.0       4006.0  \n",
       "6    0:05:07        7607.0       4004.0  \n",
       "11   0:05:07        7607.0       4006.0  \n",
       "14   0:05:11        7691.0       4006.0  "
      ]
     },
     "execution_count": 3,
     "metadata": {},
     "output_type": "execute_result"
    }
   ],
   "source": [
    "df = pd.read_csv('./data/marathon_results_2016.csv',usecols=['Bib','40K',\n",
    "                'Half','Pace','Age','M/F','Country','State','City'],\n",
    "                index_col=['Bib'])\n",
    "\n",
    "df['40K'] = df['40K'].replace('-',0)\n",
    "df['Half'] = df['Half'].replace('-',0)\n",
    "\n",
    "df['40K'] = df['40K'].apply(pd.to_timedelta)\n",
    "df['Half'] = df['Half'].apply(pd.to_timedelta)\n",
    "\n",
    "df['TotalSeconds'] = df['40K'].apply(lambda x: timedelta.total_seconds(x))\n",
    "df['HalfSeconds'] = df['Half'].apply(lambda x: timedelta.total_seconds(x))\n",
    "\n",
    "df['TotalSeconds'] = df['TotalSeconds'].replace(0,np.nan)\n",
    "df['HalfSeconds'] = df['HalfSeconds'].replace(0,np.nan)\n",
    "\n",
    "df.head()"
   ]
  },
  {
   "cell_type": "code",
   "execution_count": 4,
   "id": "3715a35a",
   "metadata": {},
   "outputs": [
    {
     "name": "stdout",
     "output_type": "stream",
     "text": [
      "<class 'pandas.core.series.Series'>\n",
      "Index: 26630 entries, 5 to 28487\n",
      "Series name: City\n",
      "Non-Null Count  Dtype \n",
      "--------------  ----- \n",
      "26629 non-null  object\n",
      "dtypes: object(1)\n",
      "memory usage: 416.1+ KB\n"
     ]
    }
   ],
   "source": [
    "df['City'].info()"
   ]
  },
  {
   "cell_type": "code",
   "execution_count": 5,
   "id": "c2344d05",
   "metadata": {},
   "outputs": [
    {
     "data": {
      "text/plain": [
       "count      26629\n",
       "unique      5832\n",
       "top       Boston\n",
       "freq         722\n",
       "Name: City, dtype: object"
      ]
     },
     "execution_count": 5,
     "metadata": {},
     "output_type": "execute_result"
    }
   ],
   "source": [
    "df['City'].describe()"
   ]
  },
  {
   "cell_type": "code",
   "execution_count": 6,
   "id": "a93247f0",
   "metadata": {},
   "outputs": [
    {
     "data": {
      "text/plain": [
       "Boston                 722\n",
       "New York               451\n",
       "Chicago                261\n",
       "Toronto                223\n",
       "San Francisco          197\n",
       "                      ... \n",
       "Portstmouth              1\n",
       "Sandy Springs            1\n",
       "Stupava                  1\n",
       "Santa Catarina N.l.      1\n",
       "Reedsburg                1\n",
       "Name: City, Length: 5832, dtype: int64"
      ]
     },
     "execution_count": 6,
     "metadata": {},
     "output_type": "execute_result"
    }
   ],
   "source": [
    "df['City'].value_counts()"
   ]
  },
  {
   "cell_type": "code",
   "execution_count": 7,
   "id": "ead6aa2e",
   "metadata": {},
   "outputs": [
    {
     "data": {
      "text/plain": [
       "array(['Addis Ababa', 'Ambo', 'Kitale', ..., 'Justin', 'Rossmoor',\n",
       "       'Reedsburg'], dtype=object)"
      ]
     },
     "execution_count": 7,
     "metadata": {},
     "output_type": "execute_result"
    }
   ],
   "source": [
    "df['City'].unique()"
   ]
  },
  {
   "cell_type": "code",
   "execution_count": 8,
   "id": "2aba4682",
   "metadata": {},
   "outputs": [
    {
     "data": {
      "text/plain": [
       "5832"
      ]
     },
     "execution_count": 8,
     "metadata": {},
     "output_type": "execute_result"
    }
   ],
   "source": [
    "df['City'].nunique()"
   ]
  },
  {
   "cell_type": "code",
   "execution_count": 9,
   "id": "d4f7e58d",
   "metadata": {},
   "outputs": [],
   "source": [
    "cities = df['City'].unique()"
   ]
  },
  {
   "cell_type": "code",
   "execution_count": 10,
   "id": "ce90f607",
   "metadata": {},
   "outputs": [],
   "source": [
    "groups={}"
   ]
  },
  {
   "cell_type": "code",
   "execution_count": 11,
   "id": "9692be80",
   "metadata": {},
   "outputs": [],
   "source": [
    "for x in cities:\n",
    "    SubDfCities = df.where(df['City'] == x).dropna()\n",
    "    groups[x] = SubDfCities"
   ]
  },
  {
   "cell_type": "code",
   "execution_count": null,
   "id": "fd794e06",
   "metadata": {},
   "outputs": [],
   "source": [
    "for city in cities:\n",
    "    tmp_df = df.loc[df['City']==city]\n",
    "    groups[city] = tmp_df"
   ]
  },
  {
   "cell_type": "code",
   "execution_count": null,
   "id": "57d9b76e",
   "metadata": {},
   "outputs": [],
   "source": []
  }
 ],
 "metadata": {
  "kernelspec": {
   "display_name": "Python 3 (ipykernel)",
   "language": "python",
   "name": "python3"
  },
  "language_info": {
   "codemirror_mode": {
    "name": "ipython",
    "version": 3
   },
   "file_extension": ".py",
   "mimetype": "text/x-python",
   "name": "python",
   "nbconvert_exporter": "python",
   "pygments_lexer": "ipython3",
   "version": "3.9.16"
  }
 },
 "nbformat": 4,
 "nbformat_minor": 5
}
