{
 "cells": [
  {
   "cell_type": "code",
   "execution_count": 2,
   "id": "eeae4c63",
   "metadata": {},
   "outputs": [],
   "source": [
    "import pandas as pd\n",
    "import numpy as np\n",
    "\n",
    "suppliers = pd.read_csv('./data/northwind-mongo-master/suppliers.csv',\n",
    "                        usecols=['SupplierID','CompanyName','City'])\n",
    "\n",
    "products = pd.read_csv('./data/northwind-mongo-master/products.csv',\n",
    "                        usecols=['ProductID','ProductName','SupplierID',\n",
    "                                 'CategoryID'])\n",
    "\n",
    "categories = pd.read_csv('./data/northwind-mongo-master/categories1.csv',\n",
    "                        usecols=['CategoryID','CategoryName'],\n",
    "                        index_col=['CategoryID'])"
   ]
  },
  {
   "cell_type": "code",
   "execution_count": 3,
   "id": "07995b0b",
   "metadata": {},
   "outputs": [],
   "source": [
    "prod_cat = products.merge(categories, left_on='CategoryID',right_index=True)"
   ]
  },
  {
   "cell_type": "code",
   "execution_count": 4,
   "id": "47e40f4d",
   "metadata": {},
   "outputs": [
    {
     "data": {
      "text/html": [
       "<div>\n",
       "<style scoped>\n",
       "    .dataframe tbody tr th:only-of-type {\n",
       "        vertical-align: middle;\n",
       "    }\n",
       "\n",
       "    .dataframe tbody tr th {\n",
       "        vertical-align: top;\n",
       "    }\n",
       "\n",
       "    .dataframe thead th {\n",
       "        text-align: right;\n",
       "    }\n",
       "</style>\n",
       "<table border=\"1\" class=\"dataframe\">\n",
       "  <thead>\n",
       "    <tr style=\"text-align: right;\">\n",
       "      <th></th>\n",
       "      <th>ProductID</th>\n",
       "      <th>ProductName</th>\n",
       "      <th>SupplierID</th>\n",
       "      <th>CategoryID</th>\n",
       "      <th>CategoryName</th>\n",
       "    </tr>\n",
       "  </thead>\n",
       "  <tbody>\n",
       "    <tr>\n",
       "      <th>0</th>\n",
       "      <td>1</td>\n",
       "      <td>Chai</td>\n",
       "      <td>1</td>\n",
       "      <td>1</td>\n",
       "      <td>Beverages</td>\n",
       "    </tr>\n",
       "    <tr>\n",
       "      <th>1</th>\n",
       "      <td>2</td>\n",
       "      <td>Chang</td>\n",
       "      <td>1</td>\n",
       "      <td>1</td>\n",
       "      <td>Beverages</td>\n",
       "    </tr>\n",
       "    <tr>\n",
       "      <th>23</th>\n",
       "      <td>24</td>\n",
       "      <td>Guaraná Fantástica</td>\n",
       "      <td>10</td>\n",
       "      <td>1</td>\n",
       "      <td>Beverages</td>\n",
       "    </tr>\n",
       "    <tr>\n",
       "      <th>33</th>\n",
       "      <td>34</td>\n",
       "      <td>Sasquatch Ale</td>\n",
       "      <td>16</td>\n",
       "      <td>1</td>\n",
       "      <td>Beverages</td>\n",
       "    </tr>\n",
       "    <tr>\n",
       "      <th>34</th>\n",
       "      <td>35</td>\n",
       "      <td>Steeleye Stout</td>\n",
       "      <td>16</td>\n",
       "      <td>1</td>\n",
       "      <td>Beverages</td>\n",
       "    </tr>\n",
       "  </tbody>\n",
       "</table>\n",
       "</div>"
      ],
      "text/plain": [
       "    ProductID         ProductName  SupplierID  CategoryID CategoryName\n",
       "0           1                Chai           1           1    Beverages\n",
       "1           2               Chang           1           1    Beverages\n",
       "23         24  Guaraná Fantástica          10           1    Beverages\n",
       "33         34       Sasquatch Ale          16           1    Beverages\n",
       "34         35      Steeleye Stout          16           1    Beverages"
      ]
     },
     "execution_count": 4,
     "metadata": {},
     "output_type": "execute_result"
    }
   ],
   "source": [
    "prod_cat.head()"
   ]
  },
  {
   "cell_type": "code",
   "execution_count": null,
   "id": "a05c7afc",
   "metadata": {},
   "outputs": [],
   "source": []
  }
 ],
 "metadata": {
  "kernelspec": {
   "display_name": "Python 3 (ipykernel)",
   "language": "python",
   "name": "python3"
  },
  "language_info": {
   "codemirror_mode": {
    "name": "ipython",
    "version": 3
   },
   "file_extension": ".py",
   "mimetype": "text/x-python",
   "name": "python",
   "nbconvert_exporter": "python",
   "pygments_lexer": "ipython3",
   "version": "3.9.16"
  }
 },
 "nbformat": 4,
 "nbformat_minor": 5
}
